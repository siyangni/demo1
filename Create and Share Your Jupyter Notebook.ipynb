{
    "cells": [
        {
            "metadata": {
                "collapsed": true
            },
            "cell_type": "markdown",
            "source": "# My Jupyter Notebook on IBM Watson Studio"
        },
        {
            "metadata": {},
            "cell_type": "markdown",
            "source": "**Siyang Ni**\nSociologist; Researcher; Data Scientist"
        },
        {
            "metadata": {},
            "cell_type": "markdown",
            "source": "*I'm intersted in data science because I want to use knowledge in data science to help me better investigate the topic of juvenile delinquency and youth development.*"
        },
        {
            "metadata": {},
            "cell_type": "markdown",
            "source": "### I now present a code to do a single calcualtion task. "
        },
        {
            "metadata": {},
            "cell_type": "code",
            "source": "3 + 5 ",
            "execution_count": 1,
            "outputs": [
                {
                    "output_type": "execute_result",
                    "execution_count": 1,
                    "data": {
                        "text/plain": "8"
                    },
                    "metadata": {}
                }
            ]
        },
        {
            "metadata": {},
            "cell_type": "markdown",
            "source": "---\n## My specialities\n1. Youth development\n2. Juvenile delinquency\n3. Data Science\n***\n## Check out my homepage\n[https://siyangni.wixsite.com/homepage]"
        },
        {
            "metadata": {},
            "cell_type": "code",
            "source": "",
            "execution_count": null,
            "outputs": []
        }
    ],
    "metadata": {
        "kernelspec": {
            "name": "python3",
            "display_name": "Python 3.6",
            "language": "python"
        },
        "language_info": {
            "name": "python",
            "version": "3.6.9",
            "mimetype": "text/x-python",
            "codemirror_mode": {
                "name": "ipython",
                "version": 3
            },
            "pygments_lexer": "ipython3",
            "nbconvert_exporter": "python",
            "file_extension": ".py"
        }
    },
    "nbformat": 4,
    "nbformat_minor": 1
}